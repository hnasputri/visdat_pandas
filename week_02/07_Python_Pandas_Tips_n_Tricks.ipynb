{
 "cells": [
  {
   "cell_type": "markdown",
   "id": "821e0210",
   "metadata": {
    "slideshow": {
     "slide_type": "slide"
    }
   },
   "source": [
    "# 07: Menghapus (drop) missing values (NaN)"
   ]
  },
  {
   "cell_type": "markdown",
   "id": "2d850930",
   "metadata": {},
   "source": [
    "2273010 - Hana Saputri"
   ]
  },
  {
   "cell_type": "markdown",
   "id": "dab327f8",
   "metadata": {
    "slideshow": {
     "slide_type": "subslide"
    }
   },
   "source": [
    "Import Modules"
   ]
  },
  {
   "cell_type": "code",
   "execution_count": 1,
   "id": "dca99fd9",
   "metadata": {},
   "outputs": [
    {
     "name": "stdout",
     "output_type": "stream",
     "text": [
      "1.4.4\n"
     ]
    }
   ],
   "source": [
    "import pandas as pd\n",
    "\n",
    "print(pd.__version__)"
   ]
  },
  {
   "cell_type": "markdown",
   "id": "4d53c987",
   "metadata": {
    "slideshow": {
     "slide_type": "subslide"
    }
   },
   "source": [
    "Persiapan Data Frame"
   ]
  },
  {
   "cell_type": "code",
   "execution_count": 2,
   "id": "834b99df",
   "metadata": {},
   "outputs": [
    {
     "name": "stderr",
     "output_type": "stream",
     "text": [
      "C:\\Users\\ACER\\anaconda3\\lib\\site-packages\\pandas\\util\\__init__.py:15: FutureWarning: pandas.util.testing is deprecated. Use the functions in the public API at pandas.testing instead.\n",
      "  import pandas.util.testing\n"
     ]
    },
    {
     "data": {
      "text/html": [
       "<div>\n",
       "<style scoped>\n",
       "    .dataframe tbody tr th:only-of-type {\n",
       "        vertical-align: middle;\n",
       "    }\n",
       "\n",
       "    .dataframe tbody tr th {\n",
       "        vertical-align: top;\n",
       "    }\n",
       "\n",
       "    .dataframe thead th {\n",
       "        text-align: right;\n",
       "    }\n",
       "</style>\n",
       "<table border=\"1\" class=\"dataframe\">\n",
       "  <thead>\n",
       "    <tr style=\"text-align: right;\">\n",
       "      <th></th>\n",
       "      <th>index</th>\n",
       "      <th>A</th>\n",
       "      <th>B</th>\n",
       "      <th>C</th>\n",
       "      <th>D</th>\n",
       "    </tr>\n",
       "  </thead>\n",
       "  <tbody>\n",
       "    <tr>\n",
       "      <th>0</th>\n",
       "      <td>OkUTCU58Lu</td>\n",
       "      <td>0.986916</td>\n",
       "      <td>NaN</td>\n",
       "      <td>-2.158546</td>\n",
       "      <td>NaN</td>\n",
       "    </tr>\n",
       "    <tr>\n",
       "      <th>1</th>\n",
       "      <td>yE9CbSOrhT</td>\n",
       "      <td>NaN</td>\n",
       "      <td>-0.304088</td>\n",
       "      <td>1.081593</td>\n",
       "      <td>0.484918</td>\n",
       "    </tr>\n",
       "    <tr>\n",
       "      <th>2</th>\n",
       "      <td>zPwLsmQGGs</td>\n",
       "      <td>1.792984</td>\n",
       "      <td>-0.243020</td>\n",
       "      <td>NaN</td>\n",
       "      <td>0.139270</td>\n",
       "    </tr>\n",
       "    <tr>\n",
       "      <th>3</th>\n",
       "      <td>hZTkuNs0Wj</td>\n",
       "      <td>NaN</td>\n",
       "      <td>-0.597408</td>\n",
       "      <td>0.291306</td>\n",
       "      <td>-1.096455</td>\n",
       "    </tr>\n",
       "    <tr>\n",
       "      <th>4</th>\n",
       "      <td>2pX8uIOGyh</td>\n",
       "      <td>-1.518631</td>\n",
       "      <td>-0.085078</td>\n",
       "      <td>0.156844</td>\n",
       "      <td>-1.064512</td>\n",
       "    </tr>\n",
       "  </tbody>\n",
       "</table>\n",
       "</div>"
      ],
      "text/plain": [
       "        index         A         B         C         D\n",
       "0  OkUTCU58Lu  0.986916       NaN -2.158546       NaN\n",
       "1  yE9CbSOrhT       NaN -0.304088  1.081593  0.484918\n",
       "2  zPwLsmQGGs  1.792984 -0.243020       NaN  0.139270\n",
       "3  hZTkuNs0Wj       NaN -0.597408  0.291306 -1.096455\n",
       "4  2pX8uIOGyh -1.518631 -0.085078  0.156844 -1.064512"
      ]
     },
     "execution_count": 2,
     "metadata": {},
     "output_type": "execute_result"
    }
   ],
   "source": [
    "df = pd.util.testing.makeMissingDataframe().reset_index() \n",
    "df.head()"
   ]
  },
  {
   "cell_type": "code",
   "execution_count": 3,
   "id": "8ab66ef6",
   "metadata": {},
   "outputs": [
    {
     "data": {
      "text/html": [
       "<div>\n",
       "<style scoped>\n",
       "    .dataframe tbody tr th:only-of-type {\n",
       "        vertical-align: middle;\n",
       "    }\n",
       "\n",
       "    .dataframe tbody tr th {\n",
       "        vertical-align: top;\n",
       "    }\n",
       "\n",
       "    .dataframe thead th {\n",
       "        text-align: right;\n",
       "    }\n",
       "</style>\n",
       "<table border=\"1\" class=\"dataframe\">\n",
       "  <thead>\n",
       "    <tr style=\"text-align: right;\">\n",
       "      <th></th>\n",
       "      <th>Z</th>\n",
       "      <th>A</th>\n",
       "      <th>B</th>\n",
       "      <th>C</th>\n",
       "      <th>D</th>\n",
       "    </tr>\n",
       "  </thead>\n",
       "  <tbody>\n",
       "    <tr>\n",
       "      <th>0</th>\n",
       "      <td>OkUTCU58Lu</td>\n",
       "      <td>0.986916</td>\n",
       "      <td>NaN</td>\n",
       "      <td>-2.158546</td>\n",
       "      <td>NaN</td>\n",
       "    </tr>\n",
       "    <tr>\n",
       "      <th>1</th>\n",
       "      <td>yE9CbSOrhT</td>\n",
       "      <td>NaN</td>\n",
       "      <td>-0.304088</td>\n",
       "      <td>1.081593</td>\n",
       "      <td>0.484918</td>\n",
       "    </tr>\n",
       "    <tr>\n",
       "      <th>2</th>\n",
       "      <td>zPwLsmQGGs</td>\n",
       "      <td>1.792984</td>\n",
       "      <td>-0.243020</td>\n",
       "      <td>NaN</td>\n",
       "      <td>0.139270</td>\n",
       "    </tr>\n",
       "    <tr>\n",
       "      <th>3</th>\n",
       "      <td>hZTkuNs0Wj</td>\n",
       "      <td>NaN</td>\n",
       "      <td>-0.597408</td>\n",
       "      <td>0.291306</td>\n",
       "      <td>-1.096455</td>\n",
       "    </tr>\n",
       "    <tr>\n",
       "      <th>4</th>\n",
       "      <td>2pX8uIOGyh</td>\n",
       "      <td>-1.518631</td>\n",
       "      <td>-0.085078</td>\n",
       "      <td>0.156844</td>\n",
       "      <td>-1.064512</td>\n",
       "    </tr>\n",
       "  </tbody>\n",
       "</table>\n",
       "</div>"
      ],
      "text/plain": [
       "            Z         A         B         C         D\n",
       "0  OkUTCU58Lu  0.986916       NaN -2.158546       NaN\n",
       "1  yE9CbSOrhT       NaN -0.304088  1.081593  0.484918\n",
       "2  zPwLsmQGGs  1.792984 -0.243020       NaN  0.139270\n",
       "3  hZTkuNs0Wj       NaN -0.597408  0.291306 -1.096455\n",
       "4  2pX8uIOGyh -1.518631 -0.085078  0.156844 -1.064512"
      ]
     },
     "execution_count": 3,
     "metadata": {},
     "output_type": "execute_result"
    }
   ],
   "source": [
    "df = df.rename(columns={'index':'Z'})\n",
    "df.head()"
   ]
  },
  {
   "cell_type": "code",
   "execution_count": null,
   "id": "bf352cd1",
   "metadata": {},
   "outputs": [],
   "source": [
    "df_backup = df.copy(deep=True)"
   ]
  },
  {
   "cell_type": "markdown",
   "id": "5c064407",
   "metadata": {
    "slideshow": {
     "slide_type": "subslide"
    }
   },
   "source": [
    "Menghapus (drop) setiap kolom yang mengandung missing values"
   ]
  },
  {
   "cell_type": "code",
   "execution_count": null,
   "id": "cc3788be",
   "metadata": {},
   "outputs": [],
   "source": [
    "df = df.dropna(axis='columns') \n",
    "df.head()"
   ]
  },
  {
   "cell_type": "markdown",
   "id": "65ceb83d",
   "metadata": {
    "slideshow": {
     "slide_type": "subslide"
    }
   },
   "source": [
    "Menghapus (drop) setiap baris yang mengandung missing values"
   ]
  },
  {
   "cell_type": "code",
   "execution_count": null,
   "id": "f6f31312",
   "metadata": {},
   "outputs": [],
   "source": [
    "df = df_backup.copy(deep=True)\n",
    "df = df.dropna(axis='rows')\n",
    "df.head()"
   ]
  },
  {
   "cell_type": "markdown",
   "id": "9ee8d72e",
   "metadata": {
    "slideshow": {
     "slide_type": "subslide"
    }
   },
   "source": [
    "Persentase missing values untuk tiap kolom"
   ]
  },
  {
   "cell_type": "code",
   "execution_count": null,
   "id": "b18ed652",
   "metadata": {},
   "outputs": [],
   "source": [
    "df = df_backup.copy(deep=True)\n",
    "df.isna().mean()"
   ]
  },
  {
   "cell_type": "markdown",
   "id": "4554a65c",
   "metadata": {
    "slideshow": {
     "slide_type": "subslide"
    }
   },
   "source": [
    "Menghapus (drop) setiap kolom yang mengandung missing values berdasarkan threshold"
   ]
  },
  {
   "cell_type": "code",
   "execution_count": null,
   "id": "726e6633",
   "metadata": {},
   "outputs": [],
   "source": [
    "treshold = len(df) * 0.9\n",
    "df = df.dropna(thresh=treshold, axis='columns')\n",
    "df.head()"
   ]
  }
 ],
 "metadata": {
  "celltoolbar": "Slideshow",
  "kernelspec": {
   "display_name": "Python 3 (ipykernel)",
   "language": "python",
   "name": "python3"
  },
  "language_info": {
   "codemirror_mode": {
    "name": "ipython",
    "version": 3
   },
   "file_extension": ".py",
   "mimetype": "text/x-python",
   "name": "python",
   "nbconvert_exporter": "python",
   "pygments_lexer": "ipython3",
   "version": "3.9.13"
  }
 },
 "nbformat": 4,
 "nbformat_minor": 5
}
