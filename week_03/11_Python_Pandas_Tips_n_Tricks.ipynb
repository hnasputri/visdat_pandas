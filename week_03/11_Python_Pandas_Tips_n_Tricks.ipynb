{
 "cells": [
  {
   "cell_type": "markdown",
   "id": "023af7fd",
   "metadata": {
    "slideshow": {
     "slide_type": "slide"
    }
   },
   "source": [
    "# 11: Melakukan seleksi kolom dan baris pada Data Frame menggunakan loc"
   ]
  },
  {
   "cell_type": "code",
   "execution_count": null,
   "id": "cf41f454",
   "metadata": {},
   "outputs": [],
   "source": [
    "2273010 - Hana Saputri"
   ]
  },
  {
   "cell_type": "markdown",
   "id": "9164591c",
   "metadata": {
    "slideshow": {
     "slide_type": "subslide"
    }
   },
   "source": [
    "Import Modules"
   ]
  },
  {
   "cell_type": "code",
   "execution_count": null,
   "id": "48c52255",
   "metadata": {},
   "outputs": [],
   "source": [
    "import pandas as pd\n",
    "import numpy as np\n",
    "\n",
    "print(pd.__version__)\n",
    "print(np.__version__)"
   ]
  },
  {
   "cell_type": "markdown",
   "id": "bfb1636b",
   "metadata": {
    "slideshow": {
     "slide_type": "subslide"
    }
   },
   "source": [
    "Persiapan Data Frame"
   ]
  },
  {
   "cell_type": "code",
   "execution_count": null,
   "id": "d054cdc6",
   "metadata": {},
   "outputs": [],
   "source": [
    "n_rows = 10\n",
    "n_cols = 5\n",
    "cols = tuple('ABCDE')\n",
    "\n",
    "df = pd.DataFrame(np.random.randint(1, 20, size=(n_rows, n_cols)), \n",
    "                  columns=cols)\n",
    "df"
   ]
  },
  {
   "cell_type": "markdown",
   "id": "32a1ea0b",
   "metadata": {
    "slideshow": {
     "slide_type": "subslide"
    }
   },
   "source": [
    "Seleksi kolom dan baris menggunakan loc"
   ]
  },
  {
   "cell_type": "code",
   "execution_count": null,
   "id": "91e92290",
   "metadata": {},
   "outputs": [],
   "source": [
    "df.loc[[0,3,4], ['B','E']]"
   ]
  },
  {
   "cell_type": "markdown",
   "id": "9fad4a7b",
   "metadata": {
    "slideshow": {
     "slide_type": "subslide"
    }
   },
   "source": [
    "Seleksi baris dengan kondisi"
   ]
  },
  {
   "cell_type": "code",
   "execution_count": null,
   "id": "af0a2d9e",
   "metadata": {},
   "outputs": [],
   "source": [
    "df.loc[df['B']>10, ['B','D','E']]"
   ]
  },
  {
   "cell_type": "markdown",
   "id": "622f6b2c",
   "metadata": {
    "slideshow": {
     "slide_type": "subslide"
    }
   },
   "source": [
    "Slicing Data Frame dengan loc"
   ]
  },
  {
   "cell_type": "code",
   "execution_count": null,
   "id": "2f21b228",
   "metadata": {},
   "outputs": [],
   "source": [
    "df.loc[0:4, 'B':'D']"
   ]
  }
 ],
 "metadata": {
  "celltoolbar": "Slideshow",
  "kernelspec": {
   "display_name": "Python 3 (ipykernel)",
   "language": "python",
   "name": "python3"
  },
  "language_info": {
   "codemirror_mode": {
    "name": "ipython",
    "version": 3
   },
   "file_extension": ".py",
   "mimetype": "text/x-python",
   "name": "python",
   "nbconvert_exporter": "python",
   "pygments_lexer": "ipython3",
   "version": "3.9.13"
  }
 },
 "nbformat": 4,
 "nbformat_minor": 5
}
