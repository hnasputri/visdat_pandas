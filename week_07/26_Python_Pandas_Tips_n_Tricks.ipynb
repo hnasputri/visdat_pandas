{
 "cells": [
  {
   "cell_type": "markdown",
   "id": "03ad2466",
   "metadata": {},
   "source": [
    "# 26: Membuat Data Frame dari hasil seleksi Spreadsheet"
   ]
  },
  {
   "cell_type": "markdown",
   "id": "8e504ca3",
   "metadata": {},
   "source": [
    "2273010 - Hana Saputri"
   ]
  },
  {
   "cell_type": "markdown",
   "id": "1004fb90",
   "metadata": {
    "slideshow": {
     "slide_type": "subslide"
    }
   },
   "source": [
    "Import Modules"
   ]
  },
  {
   "cell_type": "code",
   "execution_count": null,
   "id": "477c20d7",
   "metadata": {},
   "outputs": [],
   "source": [
    "import pandas as pd\n",
    "\n",
    "print(pd.__version__)"
   ]
  },
  {
   "cell_type": "markdown",
   "id": "a95c1020",
   "metadata": {
    "slideshow": {
     "slide_type": "subslide"
    }
   },
   "source": [
    "Membuat Data Frame dari hasil seleksi Spreadsheet"
   ]
  },
  {
   "cell_type": "code",
   "execution_count": null,
   "id": "26d2f2bc",
   "metadata": {},
   "outputs": [],
   "source": [
    "df = pd.read_clipboard()\n",
    "df"
   ]
  }
 ],
 "metadata": {
  "celltoolbar": "Slideshow",
  "kernelspec": {
   "display_name": "Python 3 (ipykernel)",
   "language": "python",
   "name": "python3"
  },
  "language_info": {
   "codemirror_mode": {
    "name": "ipython",
    "version": 3
   },
   "file_extension": ".py",
   "mimetype": "text/x-python",
   "name": "python",
   "nbconvert_exporter": "python",
   "pygments_lexer": "ipython3",
   "version": "3.9.13"
  }
 },
 "nbformat": 4,
 "nbformat_minor": 5
}
