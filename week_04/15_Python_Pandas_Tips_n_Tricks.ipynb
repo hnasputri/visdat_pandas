{
 "cells": [
  {
   "cell_type": "markdown",
   "id": "9889d7d8",
   "metadata": {
    "slideshow": {
     "slide_type": "slide"
    }
   },
   "source": [
    "# 15: Memecah nilai string dari suatu kolom ke dalam beberapa kolom baru"
   ]
  },
  {
   "cell_type": "markdown",
   "id": "d180659b",
   "metadata": {},
   "source": [
    "2273010 - Hana Saputri"
   ]
  },
  {
   "cell_type": "markdown",
   "id": "1f3573e0",
   "metadata": {
    "slideshow": {
     "slide_type": "subslide"
    }
   },
   "source": [
    "Import Modules"
   ]
  },
  {
   "cell_type": "code",
   "execution_count": 1,
   "id": "f763b7b6",
   "metadata": {},
   "outputs": [
    {
     "name": "stdout",
     "output_type": "stream",
     "text": [
      "1.4.4\n"
     ]
    }
   ],
   "source": [
    "import pandas as pd\n",
    "\n",
    "print(pd.__version__)"
   ]
  },
  {
   "cell_type": "markdown",
   "id": "8d96bce5",
   "metadata": {
    "slideshow": {
     "slide_type": "subslide"
    }
   },
   "source": [
    "Persiapan Data Frame"
   ]
  },
  {
   "cell_type": "code",
   "execution_count": null,
   "id": "2427fcf2",
   "metadata": {},
   "outputs": [],
   "source": [
    "data = {'nama':['Didi Kempot', 'Glenn Fredly', 'Mbah Surip'], \n",
    "        'tempat_kelahiran':['Surakarta, Jawa Tengah', 'Jakarta, DKI Jakarta', 'Mojokerto, Jawa Timur']}\n",
    "df = pd.DataFrame(data)\n",
    "df"
   ]
  },
  {
   "cell_type": "markdown",
   "id": "04360dca",
   "metadata": {
    "slideshow": {
     "slide_type": "subslide"
    }
   },
   "source": [
    "Memecah nama depan dan nama belakang"
   ]
  },
  {
   "cell_type": "code",
   "execution_count": null,
   "id": "871003fc",
   "metadata": {},
   "outputs": [],
   "source": [
    "df[['nama_depan', 'nama_belakang']] = df['nama'].str.split(' ', expand=True)\n",
    "df"
   ]
  },
  {
   "cell_type": "markdown",
   "id": "4f3e07c8",
   "metadata": {
    "slideshow": {
     "slide_type": "subslide"
    }
   },
   "source": [
    "Memecah nama kota dan propinsi"
   ]
  },
  {
   "cell_type": "code",
   "execution_count": null,
   "id": "204ff870",
   "metadata": {},
   "outputs": [],
   "source": [
    "df[['kota', 'propinsi']] = df['tempat_kelahiran'].str.split(',', expand=True)\n",
    "df"
   ]
  }
 ],
 "metadata": {
  "celltoolbar": "Slideshow",
  "kernelspec": {
   "display_name": "Python 3 (ipykernel)",
   "language": "python",
   "name": "python3"
  },
  "language_info": {
   "codemirror_mode": {
    "name": "ipython",
    "version": 3
   },
   "file_extension": ".py",
   "mimetype": "text/x-python",
   "name": "python",
   "nbconvert_exporter": "python",
   "pygments_lexer": "ipython3",
   "version": "3.9.13"
  }
 },
 "nbformat": 4,
 "nbformat_minor": 5
}
